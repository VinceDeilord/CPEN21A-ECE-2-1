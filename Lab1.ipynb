{
  "nbformat": 4,
  "nbformat_minor": 0,
  "metadata": {
    "colab": {
      "name": "Untitled0.ipynb",
      "provenance": [],
      "authorship_tag": "ABX9TyMaKaCFTco9eX/eatnFxjrQ",
      "include_colab_link": true
    },
    "kernelspec": {
      "name": "python3",
      "display_name": "Python 3"
    },
    "language_info": {
      "name": "python"
    }
  },
  "cells": [
    {
      "cell_type": "markdown",
      "metadata": {
        "id": "view-in-github",
        "colab_type": "text"
      },
      "source": [
        "<a href=\"https://colab.research.google.com/github/VinceDeilord/CPEN21A-ECE-2-1/blob/main/Lab1.ipynb\" target=\"_parent\"><img src=\"https://colab.research.google.com/assets/colab-badge.svg\" alt=\"Open In Colab\"/></a>"
      ]
    },
    {
      "cell_type": "markdown",
      "metadata": {
        "id": "itaUuRMMti0s"
      },
      "source": [
        "Laboratory 1"
      ]
    },
    {
      "cell_type": "code",
      "metadata": {
        "colab": {
          "base_uri": "https://localhost:8080/"
        },
        "id": "aZrij4dktt2A",
        "outputId": "19117ac8-38d2-45bb-839d-122d2ae7f841"
      },
      "source": [
        "a = \"Welcome to Pyhton programming\"\n",
        "b = \"Name: Vince Deilord V. Villasencio\"\n",
        "c = \"Address: 378 Kaybagal Central, Tagaytay, City\"\n",
        "d = \"Age: 19 years old\"\n",
        "print(a)\n",
        "print(b)\n",
        "print(c)\n",
        "print(d)"
      ],
      "execution_count": null,
      "outputs": [
        {
          "output_type": "stream",
          "name": "stdout",
          "text": [
            "Welcome to Pyhton programming\n",
            "Name: Vince Deilord V. Villasencio\n",
            "Address: 378 Kaybagal Central, Tagaytay, City\n",
            "Age: 19 years old\n"
          ]
        }
      ]
    }
  ]
}