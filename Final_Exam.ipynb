{
  "nbformat": 4,
  "nbformat_minor": 0,
  "metadata": {
    "colab": {
      "name": "Final Exam.ipynb",
      "provenance": [],
      "authorship_tag": "ABX9TyMVnpFXQ/jrP3iQMpcuW9Hr",
      "include_colab_link": true
    },
    "kernelspec": {
      "name": "python3",
      "display_name": "Python 3"
    },
    "language_info": {
      "name": "python"
    }
  },
  "cells": [
    {
      "cell_type": "markdown",
      "metadata": {
        "id": "view-in-github",
        "colab_type": "text"
      },
      "source": [
        "<a href=\"https://colab.research.google.com/github/VinceDeilord/CPEN21A-ECE-2-1/blob/main/Final_Exam.ipynb\" target=\"_parent\"><img src=\"https://colab.research.google.com/assets/colab-badge.svg\" alt=\"Open In Colab\"/></a>"
      ]
    },
    {
      "cell_type": "markdown",
      "source": [
        "#Final Exam"
      ],
      "metadata": {
        "id": "FHMkaGwQGmY1"
      }
    },
    {
      "cell_type": "markdown",
      "source": [
        "###Problem Statement 1"
      ],
      "metadata": {
        "id": "R84zzM_tNxDN"
      }
    },
    {
      "cell_type": "code",
      "source": [
        "n=[]\n",
        "x=0\n",
        "for x in range(1,11):\n",
        "  while True:\n",
        "    y=float(input(\"Enter number:\"))\n",
        "    if y<5:\n",
        "     break\n",
        "    else:\n",
        "     print(\"Please input numbers that are less than 5\")\n",
        "  n.append(y)\n",
        "  x=x+1\n",
        "\n",
        "x=0\n",
        "summation=0\n",
        "print(\"The numbers you have entered are:\",n)\n",
        "print(\"\")\n",
        "for x in n:\n",
        "  if x<5:\n",
        "    summation=summation+x\n",
        "print(\"The summation of all numbers that are less than 5 are equals to\",summation)"
      ],
      "metadata": {
        "colab": {
          "base_uri": "https://localhost:8080/"
        },
        "id": "Rt-YGoSHounY",
        "outputId": "98e63a31-02a1-480a-eef2-fcbc87fe4624"
      },
      "execution_count": 69,
      "outputs": [
        {
          "output_type": "stream",
          "name": "stdout",
          "text": [
            "Enter number:1\n",
            "Enter number:2\n",
            "Enter number:3\n",
            "Enter number:4\n",
            "Enter number:4.\n",
            "Enter number:4.2\n",
            "Enter number:2.4\n",
            "Enter number:4.2\n",
            "Enter number:4.5\n",
            "Enter number:4.6\n",
            "The numbers you have entered are: [1.0, 2.0, 3.0, 4.0, 4.0, 4.2, 2.4, 4.2, 4.5, 4.6]\n",
            "\n",
            "The summation of all numbers that are less than 5 are equals to 33.9\n"
          ]
        }
      ]
    },
    {
      "cell_type": "markdown",
      "source": [
        "###Problem Statement 2"
      ],
      "metadata": {
        "id": "24WOMdZPOeW_"
      }
    },
    {
      "cell_type": "code",
      "source": [
        "n=1;\n",
        "data={};\n",
        "while(n <=5):\n",
        "  i = str(n);\n",
        "  data[n] = input(\"Enter Number:\")\n",
        "  print(\"Value for Number \"+ i +\" is \"+ data[n])\n",
        "  n+=1\n",
        "  if(n==6):\n",
        "    sum=float(data[1])+float(data[5])\n",
        "print(\"The sum of the first and last number is: \" + str(sum))"
      ],
      "metadata": {
        "colab": {
          "base_uri": "https://localhost:8080/"
        },
        "id": "oARgxNInOjnv",
        "outputId": "106a3d6e-1da3-4e38-b729-44456dd2bac7"
      },
      "execution_count": 70,
      "outputs": [
        {
          "output_type": "stream",
          "name": "stdout",
          "text": [
            "Enter Number:1\n",
            "Value for Number 1 is 1\n",
            "Enter Number:2\n",
            "Value for Number 2 is 2\n",
            "Enter Number:3\n",
            "Value for Number 3 is 3\n",
            "Enter Number:3.5\n",
            "Value for Number 4 is 3.5\n",
            "Enter Number:6.2\n",
            "Value for Number 5 is 6.2\n",
            "The sum of the first and last number is: 7.2\n"
          ]
        }
      ]
    },
    {
      "cell_type": "markdown",
      "source": [
        "###Problem Statement 3"
      ],
      "metadata": {
        "id": "gsyyTCXbOkLS"
      }
    },
    {
      "cell_type": "code",
      "source": [
        "grade=float(input(\"Please Enter your grade:\"))\n",
        "if grade >=90:print(\"A\")\n",
        "else:\n",
        "    if grade >=80:print(\"B\")\n",
        "    elif grade >=70:print(\"C\")\n",
        "    elif grade >=60:print(\"D\")\n",
        "    else:print(\"F\")"
      ],
      "metadata": {
        "colab": {
          "base_uri": "https://localhost:8080/"
        },
        "id": "fRDhjhFEOnu_",
        "outputId": "57aef96b-3bc6-4e30-8c0f-4ea3de9094a5"
      },
      "execution_count": 8,
      "outputs": [
        {
          "output_type": "stream",
          "name": "stdout",
          "text": [
            "Enter your grade:95\n",
            "A\n"
          ]
        }
      ]
    }
  ]
}