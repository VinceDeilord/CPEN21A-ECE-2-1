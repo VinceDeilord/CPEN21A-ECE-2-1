{
  "nbformat": 4,
  "nbformat_minor": 0,
  "metadata": {
    "colab": {
      "name": "Demo1.ipynb",
      "provenance": [],
      "authorship_tag": "ABX9TyOOvCAw5iNpnhDT6IYyUijn",
      "include_colab_link": true
    },
    "kernelspec": {
      "name": "python3",
      "display_name": "Python 3"
    },
    "language_info": {
      "name": "python"
    }
  },
  "cells": [
    {
      "cell_type": "markdown",
      "metadata": {
        "id": "view-in-github",
        "colab_type": "text"
      },
      "source": [
        "<a href=\"https://colab.research.google.com/github/VinceDeilord/CPEN21A-ECE-2-1/blob/main/Demo1.ipynb\" target=\"_parent\"><img src=\"https://colab.research.google.com/assets/colab-badge.svg\" alt=\"Open In Colab\"/></a>"
      ]
    },
    {
      "cell_type": "markdown",
      "source": [
        "#Intro to Python Programming"
      ],
      "metadata": {
        "id": "NhpnzEsnj-FD"
      }
    },
    {
      "cell_type": "code",
      "execution_count": 1,
      "metadata": {
        "colab": {
          "base_uri": "https://localhost:8080/"
        },
        "id": "s2GJSCmCj1b5",
        "outputId": "78fbe835-57fa-46ea-ff66-763eea140b84"
      },
      "outputs": [
        {
          "output_type": "stream",
          "name": "stdout",
          "text": [
            "Five is greater than two\n"
          ]
        }
      ],
      "source": [
        "#Python Indention\n",
        "if 5>2:\n",
        "  print(\"Five is greater than two\")\n"
      ]
    },
    {
      "cell_type": "markdown",
      "source": [
        "#Python Variable"
      ],
      "metadata": {
        "id": "dscv47OBj8nA"
      }
    },
    {
      "cell_type": "code",
      "source": [
        "x=1\n",
        "a, b = 0,1\n",
        "a,b,c=\"zero\",\"one\",\"two\"\n",
        "print(x)\n",
        "print(a)\n",
        "print(b)\n",
        "print(c)"
      ],
      "metadata": {
        "colab": {
          "base_uri": "https://localhost:8080/"
        },
        "id": "yFA5FTWlk7Cy",
        "outputId": "cefe3076-b5fb-4f71-bde8-a22a6d6096c5"
      },
      "execution_count": 2,
      "outputs": [
        {
          "output_type": "stream",
          "name": "stdout",
          "text": [
            "1\n",
            "zero\n",
            "one\n",
            "two\n"
          ]
        }
      ]
    },
    {
      "cell_type": "code",
      "source": [
        "d=\"Sally\" #This is a string\n",
        "D=\"Ana\"\n",
        "print(d)\n",
        "e=\"John\"\n",
        "print(e)\n",
        "print(d)"
      ],
      "metadata": {
        "colab": {
          "base_uri": "https://localhost:8080/"
        },
        "id": "0menGkAQlYqt",
        "outputId": "b504dd54-ba6c-4d38-ace4-b8834d9ce2a0"
      },
      "execution_count": 3,
      "outputs": [
        {
          "output_type": "stream",
          "name": "stdout",
          "text": [
            "Sally\n",
            "John\n",
            "Sally\n"
          ]
        }
      ]
    },
    {
      "cell_type": "code",
      "source": [
        "print(type(d))\n",
        "print(type(x))"
      ],
      "metadata": {
        "colab": {
          "base_uri": "https://localhost:8080/"
        },
        "id": "g1yCC43clwL-",
        "outputId": "c4465983-f90b-4ba2-cfe6-09d95794fb5e"
      },
      "execution_count": 4,
      "outputs": [
        {
          "output_type": "stream",
          "name": "stdout",
          "text": [
            "<class 'str'>\n",
            "<class 'int'>\n"
          ]
        }
      ]
    },
    {
      "cell_type": "markdown",
      "source": [
        "#Casting"
      ],
      "metadata": {
        "id": "09cGPfYyk7e5"
      }
    },
    {
      "cell_type": "code",
      "source": [
        "f=float(4)\n",
        "print(f)\n",
        "g=int(5)\n",
        "print(g)"
      ],
      "metadata": {
        "colab": {
          "base_uri": "https://localhost:8080/"
        },
        "id": "IvTLMJMek-7U",
        "outputId": "1b0b933b-930f-4b2b-86e1-095b76d4deb2"
      },
      "execution_count": 5,
      "outputs": [
        {
          "output_type": "stream",
          "name": "stdout",
          "text": [
            "4.0\n",
            "5\n"
          ]
        }
      ]
    },
    {
      "cell_type": "markdown",
      "source": [
        "#Multiple Variables with One Value"
      ],
      "metadata": {
        "id": "l2JnWo1ck_j2"
      }
    },
    {
      "cell_type": "code",
      "source": [
        "x = y = z = \"four\"\n",
        "print(x)\n",
        "print(y)\n",
        "print(z)"
      ],
      "metadata": {
        "colab": {
          "base_uri": "https://localhost:8080/"
        },
        "id": "vLWQFZPzlDEn",
        "outputId": "d06d74ce-06a4-4ca6-9741-50448326b594"
      },
      "execution_count": 8,
      "outputs": [
        {
          "output_type": "stream",
          "name": "stdout",
          "text": [
            "four\n",
            "four\n",
            "four\n"
          ]
        }
      ]
    },
    {
      "cell_type": "code",
      "source": [
        "x= \"enjoying\"\n",
        "print(\"Python Programming is\"\n",
        "\" \" +x)"
      ],
      "metadata": {
        "colab": {
          "base_uri": "https://localhost:8080/"
        },
        "id": "c1UqnCTcmM3e",
        "outputId": "f6e3c29b-93c1-40d9-848b-b14e2bbb0e36"
      },
      "execution_count": 7,
      "outputs": [
        {
          "output_type": "stream",
          "name": "stdout",
          "text": [
            "Python Programming is enjoying\n"
          ]
        }
      ]
    },
    {
      "cell_type": "markdown",
      "source": [
        "#Operations in Python"
      ],
      "metadata": {
        "id": "J9J1pP7dmFr2"
      }
    },
    {
      "cell_type": "code",
      "source": [
        "x=5\n",
        "y=7\n",
        "x+=y #This is the same as x = x + y\n",
        "print(x+y)\n",
        "print(x*y)\n",
        "print(x)"
      ],
      "metadata": {
        "colab": {
          "base_uri": "https://localhost:8080/"
        },
        "id": "2lKlgdnomI-1",
        "outputId": "79b15842-971b-4371-a495-f3418cc0c1a1"
      },
      "execution_count": 6,
      "outputs": [
        {
          "output_type": "stream",
          "name": "stdout",
          "text": [
            "19\n",
            "84\n",
            "12\n"
          ]
        }
      ]
    },
    {
      "cell_type": "code",
      "source": [
        "x=5\n",
        "y=7\n",
        "not(x>y or y==x)"
      ],
      "metadata": {
        "colab": {
          "base_uri": "https://localhost:8080/"
        },
        "id": "FpKhvdLamSGl",
        "outputId": "87b450f2-4888-447e-d8bb-a1ac05a44ff3"
      },
      "execution_count": 9,
      "outputs": [
        {
          "output_type": "execute_result",
          "data": {
            "text/plain": [
              "True"
            ]
          },
          "metadata": {},
          "execution_count": 9
        }
      ]
    },
    {
      "cell_type": "code",
      "source": [
        "x is y"
      ],
      "metadata": {
        "colab": {
          "base_uri": "https://localhost:8080/"
        },
        "id": "TlkE7nWLmSb9",
        "outputId": "496301c8-b2e5-47b9-b211-0f8847cd1253"
      },
      "execution_count": 10,
      "outputs": [
        {
          "output_type": "execute_result",
          "data": {
            "text/plain": [
              "False"
            ]
          },
          "metadata": {},
          "execution_count": 10
        }
      ]
    },
    {
      "cell_type": "code",
      "source": [
        "x is not y"
      ],
      "metadata": {
        "colab": {
          "base_uri": "https://localhost:8080/"
        },
        "id": "UtzLVutYmVlV",
        "outputId": "d7c6a33a-0cf8-44de-a5d7-0591cf567bee"
      },
      "execution_count": 11,
      "outputs": [
        {
          "output_type": "execute_result",
          "data": {
            "text/plain": [
              "True"
            ]
          },
          "metadata": {},
          "execution_count": 11
        }
      ]
    }
  ]
}