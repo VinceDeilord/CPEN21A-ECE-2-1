{
  "nbformat": 4,
  "nbformat_minor": 0,
  "metadata": {
    "colab": {
      "name": "Control Structure.ipynb",
      "provenance": [],
      "authorship_tag": "ABX9TyNy8IS4xYmO/P6IfTbz80rT",
      "include_colab_link": true
    },
    "kernelspec": {
      "name": "python3",
      "display_name": "Python 3"
    },
    "language_info": {
      "name": "python"
    }
  },
  "cells": [
    {
      "cell_type": "markdown",
      "metadata": {
        "id": "view-in-github",
        "colab_type": "text"
      },
      "source": [
        "<a href=\"https://colab.research.google.com/github/VinceDeilord/CPEN21A-ECE-2-1/blob/main/Control_Structure.ipynb\" target=\"_parent\"><img src=\"https://colab.research.google.com/assets/colab-badge.svg\" alt=\"Open In Colab\"/></a>"
      ]
    },
    {
      "cell_type": "markdown",
      "metadata": {
        "id": "GLx1480PaOHO"
      },
      "source": [
        "## If statement"
      ]
    },
    {
      "cell_type": "code",
      "metadata": {
        "colab": {
          "base_uri": "https://localhost:8080/"
        },
        "id": "P45UX0QTaN-G",
        "outputId": "06eb8e4a-e91f-4ca9-d2ae-7360384e7ee6"
      },
      "source": [
        "a=12\n",
        "b=100\n",
        "if b>a:\n",
        "  print(\"b is greater than a\")"
      ],
      "execution_count": 2,
      "outputs": [
        {
          "output_type": "stream",
          "name": "stdout",
          "text": [
            "b is greater than a\n"
          ]
        }
      ]
    },
    {
      "cell_type": "markdown",
      "metadata": {
        "id": "-e8Pce9WaN1M"
      },
      "source": [
        "## Elif statement"
      ]
    },
    {
      "cell_type": "code",
      "metadata": {
        "id": "RRoscmgvaNp-"
      },
      "source": [
        "a=12\n",
        "b=13\n",
        "if b>a:\n",
        "  print(\"b is greater than a\")\n",
        "elif b==a:\n",
        "  print(\"b is eaqual to a\")"
      ],
      "execution_count": null,
      "outputs": []
    },
    {
      "cell_type": "markdown",
      "metadata": {
        "id": "BosReZOKaNbQ"
      },
      "source": [
        "## Else statement"
      ]
    },
    {
      "cell_type": "code",
      "metadata": {
        "colab": {
          "base_uri": "https://localhost:8080/"
        },
        "id": "8--96f8DaND-",
        "outputId": "90443aca-5571-4907-9073-9fe370ea63e0"
      },
      "source": [
        "a=30\n",
        "b=30\n",
        "if a>b:\n",
        "  print(\"a is greater than b\")\n",
        "elif b>a:\n",
        "  print(\"b is greater than a\")\n",
        "else:\n",
        "  print(\"a is equal to b\")"
      ],
      "execution_count": 3,
      "outputs": [
        {
          "output_type": "stream",
          "name": "stdout",
          "text": [
            "a is equal to b\n"
          ]
        }
      ]
    },
    {
      "cell_type": "markdown",
      "metadata": {
        "id": "w_grKdvtdvFe"
      },
      "source": [
        "## Short Hand If Statement"
      ]
    },
    {
      "cell_type": "code",
      "metadata": {
        "id": "xqGQf0Nadvhd"
      },
      "source": [
        "a=12\n",
        "b=6\n",
        "if a>b:\n",
        "  print(\"a is greater than b\")"
      ],
      "execution_count": null,
      "outputs": []
    },
    {
      "cell_type": "markdown",
      "metadata": {
        "id": "z9gk4lR5eFgz"
      },
      "source": [
        "## Short Hand If...Else Statement"
      ]
    },
    {
      "cell_type": "code",
      "metadata": {
        "colab": {
          "base_uri": "https://localhost:8080/"
        },
        "id": "3IYztgLQeF4W",
        "outputId": "3b454263-7d2c-4d80-dce1-a2c2f904bf64"
      },
      "source": [
        "a=7\n",
        "b=14\n",
        "print(\"a is greater than b\") if a>b else print(\"b is greater than a\")"
      ],
      "execution_count": 4,
      "outputs": [
        {
          "output_type": "stream",
          "name": "stdout",
          "text": [
            "b is greater than a\n"
          ]
        }
      ]
    },
    {
      "cell_type": "markdown",
      "metadata": {
        "id": "EUqI5eMTekor"
      },
      "source": [
        "## And logical condtition"
      ]
    },
    {
      "cell_type": "code",
      "metadata": {
        "colab": {
          "base_uri": "https://localhost:8080/"
        },
        "id": "D1WswpxnelsM",
        "outputId": "2297d055-b7b4-4b48-c722-9a6972f74941"
      },
      "source": [
        "a=200\n",
        "b=300\n",
        "c=500\n",
        "if a>b and c>a:\n",
        "  print(\"Both conditions are True\")\n",
        "else:\n",
        "  print(\"Evaluated as False\")"
      ],
      "execution_count": 5,
      "outputs": [
        {
          "output_type": "stream",
          "name": "stdout",
          "text": [
            "evaluated as False\n"
          ]
        }
      ]
    },
    {
      "cell_type": "markdown",
      "metadata": {
        "id": "hKjmg3fzfM3q"
      },
      "source": [
        "## Or logical condition"
      ]
    },
    {
      "cell_type": "code",
      "metadata": {
        "colab": {
          "base_uri": "https://localhost:8080/"
        },
        "id": "L2aQOTtEfOEW",
        "outputId": "c6560861-2d34-4e31-c545-9f3f1880e619"
      },
      "source": [
        "a=200\n",
        "b=300\n",
        "c=500\n",
        "if a>b or c>a:\n",
        "  print(\"Evaluated as True\")\n",
        "else:\n",
        "  print(\"Evaluated as False\")"
      ],
      "execution_count": 7,
      "outputs": [
        {
          "output_type": "stream",
          "name": "stdout",
          "text": [
            "Evaluated as True\n"
          ]
        }
      ]
    },
    {
      "cell_type": "markdown",
      "metadata": {
        "id": "X7Q673nGfn6T"
      },
      "source": [
        "## Nested If...Else Statement"
      ]
    },
    {
      "cell_type": "code",
      "metadata": {
        "colab": {
          "base_uri": "https://localhost:8080/"
        },
        "id": "tWHMm4JHfo2_",
        "outputId": "b746ac01-4444-434a-9bac-78beeff2ce08"
      },
      "source": [
        "x=20\n",
        "\n",
        "if x>10:\n",
        "  print(\"Above ten\")\n",
        "  if x>20:\n",
        "    print(\"Above twenty\")\n",
        "  else:\n",
        "    print(\"Above ten but Not above twenty\")\n",
        "else:\n",
        "  print(\"Not above ten\")"
      ],
      "execution_count": 19,
      "outputs": [
        {
          "output_type": "stream",
          "name": "stdout",
          "text": [
            "Above ten\n",
            "Above ten but Not above twenty\n"
          ]
        }
      ]
    },
    {
      "cell_type": "markdown",
      "metadata": {
        "id": "2IeUpkysXD7J"
      },
      "source": [
        "## Example 1"
      ]
    },
    {
      "cell_type": "code",
      "metadata": {
        "colab": {
          "base_uri": "https://localhost:8080/"
        },
        "id": "OKf8L_3xW--u",
        "outputId": "be3981eb-4f54-48bd-9797-c7138ef8d738"
      },
      "source": [
        "# The  qualifying Age to vote\n",
        "\n",
        "age=int(input(\"Enter your Age:\"))\n",
        "if age>=18:\n",
        "  print(\"You are qualified to vote\")\n",
        "else:\n",
        "  print(\"You are not qualified to vote\")"
      ],
      "execution_count": 1,
      "outputs": [
        {
          "output_type": "stream",
          "name": "stdout",
          "text": [
            "Enter your Age:19\n",
            "You are qualified to vote\n"
          ]
        }
      ]
    },
    {
      "cell_type": "markdown",
      "metadata": {
        "id": "sT3tlooYgd1A"
      },
      "source": [
        "## Example 2"
      ]
    },
    {
      "cell_type": "code",
      "metadata": {
        "colab": {
          "base_uri": "https://localhost:8080/"
        },
        "id": "MX8pnAkpggsS",
        "outputId": "110bbc46-ad49-40ba-f3a7-f483bcfc1dfa"
      },
      "source": [
        "num=int(input(\"Enter the number:\"))\n",
        "if num==0:\n",
        "  print(\"Zero\")\n",
        "elif num>0:\n",
        "  print(\"Positive\")\n",
        "else:\n",
        "  print(\"Negative\")"
      ],
      "execution_count": 10,
      "outputs": [
        {
          "output_type": "stream",
          "name": "stdout",
          "text": [
            "Enter the number:0\n",
            "Zero\n"
          ]
        }
      ]
    },
    {
      "cell_type": "markdown",
      "metadata": {
        "id": "YUstFiqHhG7s"
      },
      "source": [
        "## Example 3"
      ]
    },
    {
      "cell_type": "code",
      "metadata": {
        "colab": {
          "base_uri": "https://localhost:8080/"
        },
        "id": "txRilzpwhI_t",
        "outputId": "0b7a313e-e73d-4fd7-9aa2-770124500084"
      },
      "source": [
        "Grade=float(input(\"Enter your grade:\"))\n",
        "\n",
        "\n",
        "if Grade>=75:\n",
        "  print(\"Passed\")\n",
        "elif Grade<74:\n",
        "  print(\"Failed\")\n",
        "else:\n",
        "  print(\"Remedial\")"
      ],
      "execution_count": 32,
      "outputs": [
        {
          "output_type": "stream",
          "name": "stdout",
          "text": [
            "Enter your grade:75\n",
            "Passed\n"
          ]
        }
      ]
    }
  ]
}