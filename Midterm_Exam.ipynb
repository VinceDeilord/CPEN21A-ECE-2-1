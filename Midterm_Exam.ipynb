{
  "nbformat": 4,
  "nbformat_minor": 0,
  "metadata": {
    "colab": {
      "name": "Midterm Exam.ipynb",
      "provenance": [],
      "authorship_tag": "ABX9TyOw1XWZxk2Ejtq/g0fvLnpp",
      "include_colab_link": true
    },
    "kernelspec": {
      "name": "python3",
      "display_name": "Python 3"
    },
    "language_info": {
      "name": "python"
    }
  },
  "cells": [
    {
      "cell_type": "markdown",
      "metadata": {
        "id": "view-in-github",
        "colab_type": "text"
      },
      "source": [
        "<a href=\"https://colab.research.google.com/github/VinceDeilord/CPEN21A-ECE-2-1/blob/main/Midterm_Exam.ipynb\" target=\"_parent\"><img src=\"https://colab.research.google.com/assets/colab-badge.svg\" alt=\"Open In Colab\"/></a>"
      ]
    },
    {
      "cell_type": "markdown",
      "metadata": {
        "id": "r3RGWmJ61zUx"
      },
      "source": [
        "##Midterm Exam"
      ]
    },
    {
      "cell_type": "markdown",
      "metadata": {
        "id": "ApqjUGc24YYq"
      },
      "source": [
        "Problem Statement 1"
      ]
    },
    {
      "cell_type": "code",
      "metadata": {
        "colab": {
          "base_uri": "https://localhost:8080/"
        },
        "id": "3ljUon4Z1_mk",
        "outputId": "149cf487-6cd5-4690-ca27-d79004842ba0"
      },
      "source": [
        "a=\"Vince Deilord V. Villasencio\"\n",
        "b=\"202015075\"\n",
        "c=\"19 Years Old\"\n",
        "d=\"June 10, 2002\"\n",
        "e=\"378 Kaybagal Central, Tagaytay, City\"\n",
        "f=\"Bachelor of Science in Electronics Engineer\"\n",
        "g=\"1.43\"\n",
        "\n",
        "print(a)\n",
        "print(b)\n",
        "print(c)\n",
        "print(d)\n",
        "print(e)\n",
        "print(f)\n",
        "print(g)\n"
      ],
      "execution_count": 3,
      "outputs": [
        {
          "output_type": "stream",
          "name": "stdout",
          "text": [
            "Vince Deilord V. Villasencio\n",
            "202015075\n",
            "19 Years Old\n",
            "June 10, 2002\n",
            "378 Kaybagal Central, Tagaytay, City\n",
            "Bachelor of Science in Electronics Engineer\n",
            "1.43\n"
          ]
        }
      ]
    },
    {
      "cell_type": "markdown",
      "metadata": {
        "id": "aYiJwdSz5Yk6"
      },
      "source": [
        "Problem Statement 2"
      ]
    },
    {
      "cell_type": "code",
      "metadata": {
        "colab": {
          "base_uri": "https://localhost:8080/"
        },
        "id": "kdf-gkqy5dSj",
        "outputId": "f0f97d3c-34f8-421d-9569-d20b0d874e97"
      },
      "source": [
        "#logical operator\n",
        "n=4\n",
        "answ=\"Y\"\n",
        "a=(2<n) and (n<6)\n",
        "b=(2<n) or (n==6)\n",
        "c=not(2<n) or (n==6)\n",
        "d=not(n<6)\n",
        "e=(answ==\"Y\")or(answ==\"y\") \n",
        "f=(answ==\"Y\")and(answ==\"y\")\n",
        "g=not(answ==\"y\")\n",
        "h=(((2<n)and(n==5+1)) or (answ==\"No\"))\n",
        "i=(((n==2)and(n==7)) or (answ==\"Y\"))\n",
        "j=((n==2)and((n==7)or(answ==\"Y\")))\n",
        "print(a)\n",
        "print(b)\n",
        "print(c)\n",
        "print(d)\n",
        "print(e)\n",
        "print(f)\n",
        "print(g)\n",
        "print(h)\n",
        "print(i)\n",
        "print(j)"
      ],
      "execution_count": 29,
      "outputs": [
        {
          "output_type": "stream",
          "name": "stdout",
          "text": [
            "True\n",
            "True\n",
            "False\n",
            "False\n",
            "True\n",
            "False\n",
            "True\n",
            "False\n",
            "True\n",
            "False\n"
          ]
        }
      ]
    },
    {
      "cell_type": "markdown",
      "metadata": {
        "id": "vBJBQvyH7Lfj"
      },
      "source": [
        "Problem Statement 3"
      ]
    },
    {
      "cell_type": "code",
      "metadata": {
        "colab": {
          "base_uri": "https://localhost:8080/"
        },
        "id": "mbLRA19t7OK9",
        "outputId": "6fbf904f-7c2d-479c-e804-ca000b390dea"
      },
      "source": [
        "x=2\n",
        "y=-3\n",
        "w=7\n",
        "z=-10\n",
        "\n",
        "a=(x/y)\n",
        "b=(w/y/x)\n",
        "c=(z/y%x)\n",
        "d=(x%-y*w)\n",
        "e=(x%y)\n",
        "f=(z%w-y/x*5+5)\n",
        "g=(9-x%(2+y))\n",
        "h=(z//w)\n",
        "i=(2+y)**2\n",
        "j=(w/x)*2\n",
        "\n",
        "print(a)\n",
        "print(b)\n",
        "print(c)\n",
        "print(d)\n",
        "print(e)\n",
        "print(f)\n",
        "print(g)\n",
        "print(h)\n",
        "print(i)\n",
        "print(j)"
      ],
      "execution_count": 25,
      "outputs": [
        {
          "output_type": "stream",
          "name": "stdout",
          "text": [
            "-0.6666666666666666\n",
            "-1.1666666666666667\n",
            "1.3333333333333335\n",
            "14\n",
            "-1\n",
            "16.5\n",
            "9\n",
            "-2\n",
            "1\n",
            "7.0\n"
          ]
        }
      ]
    }
  ]
}